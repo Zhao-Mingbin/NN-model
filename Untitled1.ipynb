{
 "cells": [
  {
   "cell_type": "code",
   "execution_count": 14,
   "metadata": {},
   "outputs": [
    {
     "name": "stdout",
     "output_type": "stream",
     "text": [
      "C:\\Users\\Administrator\\Desktop\\hyram-master3.0\\hyram-master\\src\\hyram\\hyram\\phys\n"
     ]
    }
   ],
   "source": [
    "cd \"C:\\Users\\Administrator\\Desktop\\hyram-master3.0\\hyram-master\\src\\hyram\\hyram\\phys\""
   ]
  },
  {
   "cell_type": "code",
   "execution_count": 15,
   "metadata": {},
   "outputs": [
    {
     "data": {
      "text/plain": [
       "'C:\\\\Users\\\\Administrator\\\\Desktop\\\\hyram-master3.0\\\\hyram-master\\\\src\\\\hyram\\\\hyram\\\\phys'"
      ]
     },
     "execution_count": 15,
     "metadata": {},
     "output_type": "execute_result"
    }
   ],
   "source": [
    "pwd"
   ]
  },
  {
   "cell_type": "code",
   "execution_count": 23,
   "metadata": {},
   "outputs": [],
   "source": [
    "from _therm import *\n",
    "from _comps import *"
   ]
  },
  {
   "cell_type": "code",
   "execution_count": 32,
   "metadata": {},
   "outputs": [],
   "source": [
    "Dia  = 1.25 #mm\n",
    "Pres = 2.#bar\n",
    "Tamb = 293.#K\n",
    "Tgas=261#K\n",
    "gasname = 'hydrogen'\n",
    "therm_gas   = CoolProp()    # hydrogen or helium, but when there is some\n",
    "                                             # problem when set gamma = 1.66, because of\n",
    "                                             # fsolve()\n",
    "                                             # change estimate to linspace(0.2,30.2,31), Okay!\n",
    "\n",
    "therm_air   = CoolProp(species=\"air\")\n",
    "gas_high    = Fluid(T=Tgas, P= Pres*1e5)\n",
    "gas_low     = Fluid(T=Tamb, P=1.01325e5)\n",
    "de          = Dia*1e-3          # exit diameter, m\n",
    "orifice     = Orifice(d=de)\n",
    "nn = NotionalNozzle(gas_high,orifice,gas_low)"
   ]
  },
  {
   "cell_type": "code",
   "execution_count": 33,
   "metadata": {},
   "outputs": [
    {
     "data": {
      "text/plain": [
       "(Gas\n",
       " ------------------------------\n",
       "   P = 1.013 bar\n",
       "   T = 215.4 K\n",
       "   rho = 0.114 kg/m^3)\n",
       "   v = 1127.9 m/s,\n",
       " orifice\n",
       " ------------------------------\n",
       " diameter = 0.00 mm\n",
       " discharge coefficient = 1.00)"
      ]
     },
     "execution_count": 33,
     "metadata": {},
     "output_type": "execute_result"
    }
   ],
   "source": [
    "nn.calculate(T = 'solve_energy', conserve_momentum = False)"
   ]
  },
  {
   "cell_type": "code",
   "execution_count": 16,
   "metadata": {},
   "outputs": [],
   "source": [
    "from __future__ import print_function, absolute_import, division\n",
    "import numpy as np\n",
    "from scipy import optimize\n",
    "from _comps import Orifice\n",
    "import copy\n",
    "\n",
    "class NotionalNozzle:\n",
    "    def __init__(self, fluid_orifice, orifice, low_P_fluid):\n",
    "        '''Notional nozzle class'''\n",
    "        self.fluid_orifice, self.orifice, self.low_P_fluid = fluid_orifice, orifice, low_P_fluid\n",
    "    \n",
    "    def calculate(self, T = 'solve_energy', conserve_momentum = True):\n",
    "        '''\n",
    "        Calculates the properties after the notional nozzle using one of the following models:\n",
    "        \n",
    "        Parameters\n",
    "        ----------\n",
    "        T: string ('solve_energy', or 'Tthroat' - if conserve_momentum is false) or value\n",
    "            how to calculate or specify temperature at end of notional nozzle\n",
    "        conserve_momentum: boolean\n",
    "            whether to use conservation of momentum equation\n",
    "        Literature references for models of different combinations are:\n",
    "            YuceilOtugen - conserve_momentum = True, T = solve_energy\n",
    "            EwanMoodie - conserve_momentum = False, T = Tthroat\n",
    "            Birch - conserve_momentum = False, T = T0\n",
    "            Birch2 - conserve_momentum = True, T = T0\n",
    "            Molkov - conserve_momentum = False, T = solve_energy\n",
    "        \n",
    "        Returns\n",
    "        -------\n",
    "        tuple of (fluid object, orifice object), all at exit of notional nozzle\n",
    "        '''\n",
    "        throat = self.fluid_orifice\n",
    "        if conserve_momentum:\n",
    "            #YuceilOtugen, Birch2\n",
    "            v = throat.v + (throat.P - self.low_P_fluid.P)/(throat.v*throat.rho*self.orifice.Cd)\n",
    "            if T == 'solve_energy':\n",
    "                #YuceilOtugen\n",
    "                rho = optimize.brentq(lambda rho: throat.therm._err_H_P_rho(throat.P, throat.rho, throat.v,\n",
    "                                                                            self.low_P_fluid.P, rho, v), \n",
    "                                      throat.rho, throat.therm.rho(self.low_P_fluid.T, self.low_P_fluid.P))\n",
    "                T = throat.therm.T(self.low_P_fluid.P, rho)\n",
    "            elif np.isreal(T):\n",
    "                #Birch2 - T specified as T0\n",
    "                rho = throat.therm.rho(T, self.low_P_fluid.P)\n",
    "            else:\n",
    "                raise NotImplementedError('Notional nozzle model not defined properly, ' + \n",
    "                                          \"nn_T must be specified temperature or 'solve_energy'.\")\n",
    "        else:\n",
    "            #EwanMoodie, Birch, Molkov -- assume sonic at notional nozzle location\n",
    "            if np.isreal(T):\n",
    "                # Birch: T specified as T0\n",
    "                v = throat.therm.a(T = T, P = self.low_P_fluid.P)\n",
    "                rho = throat.therm.rho(T = T, P = self.low_P_fluid.P)\n",
    "            elif T == 'Tthroat':\n",
    "                #EwanMoodie - T is Throat temperature\n",
    "                v = throat.therm.a(T = throat.T, P = self.low_P_fluid.P)\n",
    "                rho = throat.therm.rho(T = throat.T, P = self.low_P_fluid.P)\n",
    "            elif T == 'solve_energy':\n",
    "                #Molkov\n",
    "                def err(rho):\n",
    "                    T = throat.therm.T(P = self.low_P_fluid.P, rho = rho)\n",
    "                    v = throat.therm.a(T = T, P = self.low_P_fluid.P)\n",
    "                    return throat.therm._err_H_P_rho(throat.P, throat.rho, throat.v,\n",
    "                                                     self.low_P_fluid.P, rho, v)\n",
    "                rho = optimize.newton(err, throat.therm.rho(self.low_P_fluid.T, self.low_P_fluid.P))\n",
    "                T = throat.therm.T(self.low_P_fluid.P, rho)\n",
    "                v = throat.therm.a(T = T, P = self.low_P_fluid.P)\n",
    "            else:\n",
    "                raise NotImplementedError('Notional nozzle model not defined properly, ' + \n",
    "                                          \"nn_T must be specified temperature or 'solve_energy'\")\n",
    "        fluid = copy.copy(throat)\n",
    "        fluid.update(rho = rho, P = self.low_P_fluid.P, v = v)\n",
    "        # conserve mass to solve for effective diameter:\n",
    "        orifice = Orifice(np.sqrt(self.orifice.mdot(throat)/(fluid.rho*fluid.v)*4/np.pi))\n",
    "        return fluid, orifice    \n",
    "    \n"
   ]
  },
  {
   "cell_type": "code",
   "execution_count": 11,
   "metadata": {},
   "outputs": [
    {
     "data": {
      "text/plain": [
       "True"
      ]
     },
     "execution_count": 11,
     "metadata": {},
     "output_type": "execute_result"
    }
   ],
   "source": [
    "\"A啊\" is \"A啊\""
   ]
  },
  {
   "cell_type": "code",
   "execution_count": 1,
   "metadata": {},
   "outputs": [],
   "source": [
    "from nn_therm import *"
   ]
  },
  {
   "cell_type": "code",
   "execution_count": 6,
   "metadata": {},
   "outputs": [],
   "source": [
    "A=EOS('hydrogen')"
   ]
  },
  {
   "cell_type": "code",
   "execution_count": 3,
   "metadata": {},
   "outputs": [],
   "source": [
    "A=EOS('helium')"
   ]
  },
  {
   "cell_type": "code",
   "execution_count": 7,
   "metadata": {},
   "outputs": [
    {
     "data": {
      "text/plain": [
       "22.9941944289294"
      ]
     },
     "execution_count": 7,
     "metadata": {},
     "output_type": "execute_result"
    }
   ],
   "source": [
    "A.rho(100,10000000)"
   ]
  },
  {
   "cell_type": "code",
   "execution_count": 27,
   "metadata": {},
   "outputs": [
    {
     "data": {
      "text/plain": [
       "0.009640257608288065"
      ]
     },
     "execution_count": 27,
     "metadata": {},
     "output_type": "execute_result"
    }
   ],
   "source": [
    "A.P(1,11)"
   ]
  },
  {
   "cell_type": "code",
   "execution_count": 20,
   "metadata": {},
   "outputs": [],
   "source": [
    "oytput=10"
   ]
  },
  {
   "cell_type": "code",
   "execution_count": 21,
   "metadata": {},
   "outputs": [],
   "source": [
    "class B:\n",
    "    def __init__(self,output):\n",
    "        self.output=output\n",
    "    def text(self):\n",
    "        return self.output"
   ]
  },
  {
   "cell_type": "code",
   "execution_count": 23,
   "metadata": {},
   "outputs": [],
   "source": [
    "b=B(oytput)"
   ]
  },
  {
   "cell_type": "code",
   "execution_count": 24,
   "metadata": {},
   "outputs": [
    {
     "data": {
      "text/plain": [
       "10"
      ]
     },
     "execution_count": 24,
     "metadata": {},
     "output_type": "execute_result"
    }
   ],
   "source": [
    "b.text()"
   ]
  },
  {
   "cell_type": "code",
   "execution_count": 1,
   "metadata": {},
   "outputs": [
    {
     "ename": "TypeError",
     "evalue": "critical(QWidget, str, str, buttons: Union[QMessageBox.StandardButtons, QMessageBox.StandardButton] = QMessageBox.Ok, defaultButton: QMessageBox.StandardButton = QMessageBox.NoButton): argument 1 has unexpected type 'str'",
     "output_type": "error",
     "traceback": [
      "\u001b[1;31m---------------------------------------------------------------------------\u001b[0m",
      "\u001b[1;31mTypeError\u001b[0m                                 Traceback (most recent call last)",
      "\u001b[1;32m<ipython-input-1-9a8b3cdedae0>\u001b[0m in \u001b[0;36m<module>\u001b[1;34m\u001b[0m\n\u001b[0;32m     54\u001b[0m     \u001b[0mwin\u001b[0m\u001b[1;33m=\u001b[0m\u001b[0mMyWindow\u001b[0m\u001b[1;33m(\u001b[0m\u001b[1;33m)\u001b[0m\u001b[1;33m\u001b[0m\u001b[1;33m\u001b[0m\u001b[0m\n\u001b[0;32m     55\u001b[0m     \u001b[0mwin\u001b[0m\u001b[1;33m.\u001b[0m\u001b[0mshow\u001b[0m\u001b[1;33m(\u001b[0m\u001b[1;33m)\u001b[0m\u001b[1;33m\u001b[0m\u001b[1;33m\u001b[0m\u001b[0m\n\u001b[1;32m---> 56\u001b[1;33m     \u001b[0mQMessageBox\u001b[0m\u001b[1;33m.\u001b[0m\u001b[0mcritical\u001b[0m\u001b[1;33m(\u001b[0m\u001b[1;34m\"标题\"\u001b[0m\u001b[1;33m,\u001b[0m\u001b[1;34m\"严重错误消息正文\"\u001b[0m\u001b[1;33m,\u001b[0m\u001b[0mQMessageBox\u001b[0m\u001b[1;33m.\u001b[0m\u001b[0mYes\u001b[0m\u001b[1;33m|\u001b[0m\u001b[0mQMessageBox\u001b[0m\u001b[1;33m.\u001b[0m\u001b[0mNo\u001b[0m\u001b[1;33m,\u001b[0m\u001b[0mQMessageBox\u001b[0m\u001b[1;33m.\u001b[0m\u001b[0mYes\u001b[0m\u001b[1;33m)\u001b[0m\u001b[1;33m\u001b[0m\u001b[1;33m\u001b[0m\u001b[0m\n\u001b[0m\u001b[0;32m     57\u001b[0m     \u001b[0msys\u001b[0m\u001b[1;33m.\u001b[0m\u001b[0mexit\u001b[0m\u001b[1;33m(\u001b[0m\u001b[0mapp\u001b[0m\u001b[1;33m.\u001b[0m\u001b[0mexec_\u001b[0m\u001b[1;33m(\u001b[0m\u001b[1;33m)\u001b[0m\u001b[1;33m)\u001b[0m\u001b[1;33m\u001b[0m\u001b[1;33m\u001b[0m\u001b[0m\n",
      "\u001b[1;31mTypeError\u001b[0m: critical(QWidget, str, str, buttons: Union[QMessageBox.StandardButtons, QMessageBox.StandardButton] = QMessageBox.Ok, defaultButton: QMessageBox.StandardButton = QMessageBox.NoButton): argument 1 has unexpected type 'str'"
     ]
    }
   ],
   "source": [
    "import sys\n",
    "from PyQt5.QtCore import *\n",
    "from PyQt5.QtGui import *\n",
    "from PyQt5.QtWidgets import *\n",
    "class MyWindow(QWidget):\n",
    "    def __init__(self,parent=None):\n",
    "        super(MyWindow,self).__init__(parent)\n",
    "        self.setWindowTitle(\"弹出式对话框例子\")\n",
    "        self.resize(400,200)\n",
    "        self.btn1=QPushButton(self)\n",
    "        self.btn1.setText(\"消息框\")\n",
    "        self.btn1.clicked.connect(self.msg1)\n",
    "        layout=QVBoxLayout()\n",
    "\n",
    "        self.btn2=QPushButton(self)\n",
    "        self.btn2.setText(\"问答对话框\")\n",
    "        self.btn2.clicked.connect(self.msg2)\n",
    "\n",
    "        self.btn3=QPushButton()\n",
    "        self.btn3.setText(\"警告对话框\")\n",
    "        self.btn3.clicked.connect(self.msg3)\n",
    "\n",
    "        self.btn4=QPushButton()\n",
    "        self.btn4.setText(\"严重错误对话框\")\n",
    "        self.btn4.clicked.connect(self.msg4)\n",
    "\n",
    "        self.btn5=QPushButton()\n",
    "        self.btn5.setText(\"关于对话框\")\n",
    "        self.btn5.clicked.connect(self.msg5)\n",
    "\n",
    "        layout.addWidget(self.btn1)\n",
    "        layout.addWidget(self.btn2)\n",
    "        layout.addWidget(self.btn3)\n",
    "        layout.addWidget(self.btn4)\n",
    "        layout.addWidget(self.btn5)\n",
    "\n",
    "        self.setLayout(layout)\n",
    "\n",
    "    \n",
    "    def msg1(self):\n",
    "        #使用infomation信息框\n",
    "        QMessageBox.information(self,\"标题\",\"消息正文\",QMessageBox.Yes|QMessageBox.No,QMessageBox.Yes)\n",
    "    def msg2(self):\n",
    "         QMessageBox.question(self,\"标题\",\"问答消息正文\",QMessageBox.Yes|QMessageBox.No,QMessageBox.Yes)\n",
    "    def msg3(self):\n",
    "        QMessageBox.warning(self,\"标题\",\"警告消息正文\",QMessageBox.Yes|QMessageBox.No,QMessageBox.Yes)\n",
    "    def msg4(self):\n",
    "        QMessageBox.critical(self,\"标题\",\"严重错误消息正文\",QMessageBox.Yes|QMessageBox.No,QMessageBox.Yes)\n",
    "    def msg5(self):\n",
    "        QMessageBox.about(self,\"标题\",\"关于消息正文\")\n",
    "\n",
    "if __name__==\"__main__\":\n",
    "    app=QApplication(sys.argv)\n",
    "    win=MyWindow()\n",
    "    win.show()\n",
    "    QMessageBox.critical(\"标题\",\"严重错误消息正文\",QMessageBox.Yes|QMessageBox.No,QMessageBox.Yes)\n",
    "    sys.exit(app.exec_())\n"
   ]
  },
  {
   "cell_type": "code",
   "execution_count": 4,
   "metadata": {},
   "outputs": [
    {
     "name": "stdout",
     "output_type": "stream",
     "text": [
      "Exception:  division by zero\n"
     ]
    }
   ],
   "source": [
    "try:\n",
    "    print (1/0)\n",
    "except ZeroDivisionError as err:        # as 加原因参数名称\n",
    "    print ('Exception: ', err)"
   ]
  },
  {
   "cell_type": "code",
   "execution_count": 34,
   "metadata": {},
   "outputs": [],
   "source": [
    "import chaospy as cp"
   ]
  },
  {
   "cell_type": "code",
   "execution_count": 37,
   "metadata": {},
   "outputs": [],
   "source": [
    "A=cp.Normal(4,2)"
   ]
  },
  {
   "cell_type": "code",
   "execution_count": 43,
   "metadata": {},
   "outputs": [],
   "source": [
    "Asample=A.sample(1000,\"L\")"
   ]
  },
  {
   "cell_type": "code",
   "execution_count": 44,
   "metadata": {},
   "outputs": [
    {
     "data": {
      "text/plain": [
       "4.000288814618182"
      ]
     },
     "execution_count": 44,
     "metadata": {},
     "output_type": "execute_result"
    }
   ],
   "source": [
    "Asample.mean()"
   ]
  },
  {
   "cell_type": "code",
   "execution_count": 45,
   "metadata": {},
   "outputs": [
    {
     "data": {
      "text/plain": [
       "2.002951512609847"
      ]
     },
     "execution_count": 45,
     "metadata": {},
     "output_type": "execute_result"
    }
   ],
   "source": [
    "Asample.std()"
   ]
  },
  {
   "cell_type": "code",
   "execution_count": 60,
   "metadata": {},
   "outputs": [],
   "source": [
    "Bsample=Asample+100"
   ]
  },
  {
   "cell_type": "code",
   "execution_count": 61,
   "metadata": {},
   "outputs": [
    {
     "data": {
      "text/plain": [
       "104.00028881461817"
      ]
     },
     "execution_count": 61,
     "metadata": {},
     "output_type": "execute_result"
    }
   ],
   "source": [
    "Bsample.mean()"
   ]
  },
  {
   "cell_type": "code",
   "execution_count": 62,
   "metadata": {},
   "outputs": [
    {
     "data": {
      "text/plain": [
       "2.002951512609847"
      ]
     },
     "execution_count": 62,
     "metadata": {},
     "output_type": "execute_result"
    }
   ],
   "source": [
    "Bsample.std()"
   ]
  },
  {
   "cell_type": "code",
   "execution_count": 69,
   "metadata": {},
   "outputs": [],
   "source": [
    "aa='毫米（mm）'"
   ]
  },
  {
   "cell_type": "code",
   "execution_count": 70,
   "metadata": {},
   "outputs": [
    {
     "data": {
      "text/plain": [
       "'mm'"
      ]
     },
     "execution_count": 70,
     "metadata": {},
     "output_type": "execute_result"
    }
   ],
   "source": [
    "aa.split('（')[1].split('）')[0]"
   ]
  },
  {
   "cell_type": "code",
   "execution_count": null,
   "metadata": {},
   "outputs": [],
   "source": [
    "毫米（mm）"
   ]
  },
  {
   "cell_type": "code",
   "execution_count": 71,
   "metadata": {},
   "outputs": [],
   "source": [
    "dic = {\n",
    "    \"name\": \"botoo\",\n",
    "    \"url\": \"http://www.123.com\",\n",
    "    \"page\": \"88\",\n",
    "    \"isNonProfit\": \"true\",\n",
    "    \"address\": \"china\",\n",
    "    }"
   ]
  },
  {
   "cell_type": "code",
   "execution_count": 72,
   "metadata": {},
   "outputs": [],
   "source": [
    "d = max(map(len, dic.keys()))"
   ]
  },
  {
   "cell_type": "code",
   "execution_count": 75,
   "metadata": {},
   "outputs": [
    {
     "name": "stdout",
     "output_type": "stream",
     "text": [
      "name        : botoo\n",
      "url         : http://www.123.com\n",
      "page        : 88\n",
      "isNonProfit : true\n",
      "address     : china\n"
     ]
    }
   ],
   "source": [
    "for k in dic:\n",
    "    print(k.ljust(d),\":\",dic[k])\n"
   ]
  },
  {
   "cell_type": "code",
   "execution_count": 76,
   "metadata": {},
   "outputs": [
    {
     "data": {
      "text/plain": [
       "'address    '"
      ]
     },
     "execution_count": 76,
     "metadata": {},
     "output_type": "execute_result"
    }
   ],
   "source": [
    "k.ljust(d)"
   ]
  },
  {
   "cell_type": "code",
   "execution_count": 77,
   "metadata": {},
   "outputs": [
    {
     "name": "stdout",
     "output_type": "stream",
     "text": [
      "name\n",
      "url\n",
      "page\n",
      "isNonProfit\n",
      "address\n"
     ]
    }
   ],
   "source": [
    "for k in dic:\n",
    "    print(k)"
   ]
  },
  {
   "cell_type": "code",
   "execution_count": 82,
   "metadata": {},
   "outputs": [],
   "source": [
    "def a():\n",
    "    print('a')\n",
    "    def b():\n",
    "        print('b')\n",
    "    b()"
   ]
  },
  {
   "cell_type": "code",
   "execution_count": 84,
   "metadata": {},
   "outputs": [
    {
     "name": "stdout",
     "output_type": "stream",
     "text": [
      "a\n",
      "b\n"
     ]
    }
   ],
   "source": [
    "a()"
   ]
  },
  {
   "cell_type": "code",
   "execution_count": 85,
   "metadata": {},
   "outputs": [],
   "source": [
    "import os"
   ]
  },
  {
   "cell_type": "code",
   "execution_count": 87,
   "metadata": {},
   "outputs": [
    {
     "data": {
      "text/plain": [
       "'C:\\\\Users\\\\Administrator\\\\Desktop\\\\hyram-master3.0\\\\hyram-master\\\\src\\\\hyram\\\\hyram\\\\phys'"
      ]
     },
     "execution_count": 87,
     "metadata": {},
     "output_type": "execute_result"
    }
   ],
   "source": [
    "os.getcwd()"
   ]
  },
  {
   "cell_type": "code",
   "execution_count": 88,
   "metadata": {},
   "outputs": [
    {
     "ename": "SyntaxError",
     "evalue": "invalid syntax (<ipython-input-88-ab2a183489a3>, line 1)",
     "output_type": "error",
     "traceback": [
      "\u001b[1;36m  File \u001b[1;32m\"<ipython-input-88-ab2a183489a3>\"\u001b[1;36m, line \u001b[1;32m1\u001b[0m\n\u001b[1;33m    global a={}\u001b[0m\n\u001b[1;37m            ^\u001b[0m\n\u001b[1;31mSyntaxError\u001b[0m\u001b[1;31m:\u001b[0m invalid syntax\n"
     ]
    }
   ],
   "source": [
    "global a={}"
   ]
  }
 ],
 "metadata": {
  "kernelspec": {
   "display_name": "Python 3",
   "language": "python",
   "name": "python3"
  },
  "language_info": {
   "codemirror_mode": {
    "name": "ipython",
    "version": 3
   },
   "file_extension": ".py",
   "mimetype": "text/x-python",
   "name": "python",
   "nbconvert_exporter": "python",
   "pygments_lexer": "ipython3",
   "version": "3.7.6"
  }
 },
 "nbformat": 4,
 "nbformat_minor": 4
}
